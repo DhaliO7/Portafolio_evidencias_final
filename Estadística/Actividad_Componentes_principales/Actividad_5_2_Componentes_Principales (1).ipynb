{
  "nbformat": 4,
  "nbformat_minor": 0,
  "metadata": {
    "colab": {
      "provenance": []
    },
    "kernelspec": {
      "name": "python3",
      "display_name": "Python 3"
    },
    "language_info": {
      "name": "python"
    }
  },
  "cells": [
    {
      "cell_type": "markdown",
      "source": [
        "#Actividad 5.2 Componentes Principales\n",
        "\n",
        "#Carlos Dhali Tejeda Tapia - A00344820"
      ],
      "metadata": {
        "id": "jp6Ve19cpknW"
      }
    },
    {
      "cell_type": "markdown",
      "source": [
        "#1. Datos\n"
      ],
      "metadata": {
        "id": "cecqDd-5K5No"
      }
    },
    {
      "cell_type": "code",
      "source": [
        "import pandas as pd\n",
        "import numpy as np\n",
        "from sklearn.decomposition import PCA\n",
        "from sklearn.linear_model import LinearRegression\n",
        "from sklearn.preprocessing import StandardScaler\n",
        "from sklearn.cluster import KMeans\n",
        "from statsmodels.stats.outliers_influence import variance_inflation_factor\n",
        "import statsmodels.api as sm\n",
        "import matplotlib.pyplot as plt\n",
        "from sklearn.metrics import mean_squared_error, r2_score\n",
        "\n",
        "# Cargar datos\n",
        "df = pd.read_csv(\"/content/sample_data/Country-data.csv\")\n",
        "\n",
        "# Separar las variables\n",
        "country_names = df[\"country\"]\n",
        "data = df.drop(columns=[\"country\"])\n",
        "target = data[\"gdpp\"]\n",
        "predictors = data.drop(columns=[\"gdpp\"])\n"
      ],
      "metadata": {
        "id": "HoaLncX1K7wo"
      },
      "execution_count": 4,
      "outputs": []
    },
    {
      "cell_type": "markdown",
      "source": [
        "#2. Regresión lineal múltiple con todas las variables originales"
      ],
      "metadata": {
        "id": "mGC7CbGBK90P"
      }
    },
    {
      "cell_type": "code",
      "source": [
        "# Agregar intercepto\n",
        "X = sm.add_constant(predictors)\n",
        "\n",
        "# Ajustar el modelo\n",
        "model = sm.OLS(target, X).fit()\n",
        "\n",
        "# Mostrar el resumen del modelo\n",
        "print(model.summary())\n",
        "\n",
        "# Calcular VIF para evaluar multicolinealidad\n",
        "vif_data = pd.DataFrame()\n",
        "vif_data[\"Variable\"] = predictors.columns\n",
        "vif_data[\"VIF\"] = [variance_inflation_factor(X.values, i + 1) for i in range(len(predictors.columns))]\n",
        "print(\"\\nVIF:\\n\", vif_data)\n"
      ],
      "metadata": {
        "colab": {
          "base_uri": "https://localhost:8080/",
          "height": 0
        },
        "id": "lIxwXRrlK9YZ",
        "outputId": "51eb209f-cf56-4372-e183-741240635412"
      },
      "execution_count": 5,
      "outputs": [
        {
          "output_type": "stream",
          "name": "stdout",
          "text": [
            "                            OLS Regression Results                            \n",
            "==============================================================================\n",
            "Dep. Variable:                   gdpp   R-squared:                       0.866\n",
            "Model:                            OLS   Adj. R-squared:                  0.859\n",
            "Method:                 Least Squares   F-statistic:                     127.7\n",
            "Date:                Tue, 19 Nov 2024   Prob (F-statistic):           6.13e-65\n",
            "Time:                        20:49:36   Log-Likelihood:                -1707.9\n",
            "No. Observations:                 167   AIC:                             3434.\n",
            "Df Residuals:                     158   BIC:                             3462.\n",
            "Df Model:                           8                                         \n",
            "Covariance Type:            nonrobust                                         \n",
            "==============================================================================\n",
            "                 coef    std err          t      P>|t|      [0.025      0.975]\n",
            "------------------------------------------------------------------------------\n",
            "const      -4.193e+04   1.11e+04     -3.768      0.000   -6.39e+04      -2e+04\n",
            "child_mort    66.5667     35.522      1.874      0.063      -3.593     136.727\n",
            "exports       28.4864     43.211      0.659      0.511     -56.859     113.831\n",
            "health      1548.7889    227.184      6.817      0.000    1100.079    1997.499\n",
            "imports      -28.1190     42.516     -0.661      0.509    -112.093      55.855\n",
            "income         0.7856      0.044     17.990      0.000       0.699       0.872\n",
            "inflation   -100.4978     56.673     -1.773      0.078    -212.432      11.437\n",
            "life_expec   388.9480    142.967      2.721      0.007     106.574     671.322\n",
            "total_fer    615.0903    679.917      0.905      0.367    -727.809    1957.990\n",
            "==============================================================================\n",
            "Omnibus:                       53.684   Durbin-Watson:                   1.914\n",
            "Prob(Omnibus):                  0.000   Jarque-Bera (JB):              287.333\n",
            "Skew:                           1.040   Prob(JB):                     4.04e-63\n",
            "Kurtosis:                       9.080   Cond. No.                     5.39e+05\n",
            "==============================================================================\n",
            "\n",
            "Notes:\n",
            "[1] Standard Errors assume that the covariance matrix of the errors is correctly specified.\n",
            "[2] The condition number is large, 5.39e+05. This might indicate that there are\n",
            "strong multicollinearity or other numerical problems.\n",
            "\n",
            "VIF:\n",
            "      Variable       VIF\n",
            "0  child_mort  7.206594\n",
            "1     exports  4.926676\n",
            "2      health  1.367459\n",
            "3     imports  3.720285\n",
            "4      income  2.488358\n",
            "5   inflation  1.260237\n",
            "6  life_expec  5.676476\n",
            "7   total_fer  3.720211\n"
          ]
        }
      ]
    },
    {
      "cell_type": "markdown",
      "source": [
        "#La R^2  y R^2 ajustada tienen valores similares de 86 porciento lo que indica que las variables predictoras explican muy bien los cambios en el gdpp. Además que la R^2 ajustada sea casi exactamente igual que la R^2 nos indica que todas las variables predictoras están aportando de manera significativa al modelo de regresión."
      ],
      "metadata": {
        "id": "JtQ9GS_sPw_-"
      }
    },
    {
      "cell_type": "markdown",
      "source": [
        "#Tomando en cuenta los p-values de cada variable predictora podemos llegar a estas conclusiones:\n",
        "\n",
        "#Variables significativas:\n",
        "\n",
        "#health, income, y life_expec tienen un efecto estadísticamente significativo sobre gdpp.\n",
        "#child_mort e inflation tienen un efecto marginalmente significativo.\n",
        "\n",
        "#Variables no significativas:\n",
        "\n",
        "#exports, imports, y total_fer no tienen un efecto significativo sobre gdpp en este modelo."
      ],
      "metadata": {
        "id": "F6C5GNL4Qtqo"
      }
    },
    {
      "cell_type": "markdown",
      "source": [
        "#Multicolinealidad (VIF):\n",
        "\n",
        "#Valores de VIF > 5 (child_mort y life_expec) indican multicolinealidad moderada. Esto puede afectar la estabilidad de los coeficientes y su significancia estadística.\n",
        "#Para mitigar, se podría considerar eliminar o transformar estas variables, o aplicar técnicas como Componentes Principales.\n",
        "#Condición del modelo (5.39e+05):\n",
        "\n",
        "#Un número de condición alto indica posibles problemas numéricos o multicolinealidad en el modelo. Esto concuerda con los valores de VIF observados.\n",
        "#Distribución de residuos (Omnibus y Jarque-Bera):\n",
        "\n",
        "#Los residuos no son normales (p < 0.001). Esto puede afectar la interpretación de los intervalos de confianza y los valores p.\n",
        "#Durbin-Watson (1.914):\n",
        "\n",
        "#Indica que no hay problemas graves de autocorrelación en los residuos.\n"
      ],
      "metadata": {
        "id": "f8W06iofRRNb"
      }
    },
    {
      "cell_type": "markdown",
      "source": [
        "#3. Aplicar PCA para reducir dimensionalidad"
      ],
      "metadata": {
        "id": "qLRUsWAJLCAz"
      }
    },
    {
      "cell_type": "code",
      "source": [
        "# Escalar los datos\n",
        "scaler = StandardScaler()\n",
        "scaled_data = scaler.fit_transform(predictors)\n",
        "\n",
        "# Aplicar PCA\n",
        "pca = PCA()\n",
        "pca_data = pca.fit_transform(scaled_data)\n",
        "\n",
        "# Calcular la varianza explicada acumulada\n",
        "explained_variance = np.cumsum(pca.explained_variance_ratio_)\n",
        "print(\"\\nVarianza explicada acumulada:\", explained_variance)\n",
        "\n",
        "# Seleccionar el número de componentes que explican al menos el 80% de la varianza\n",
        "n_components = np.argmax(explained_variance >= 0.8) + 1\n",
        "print(f\"\\nNúmero de componentes seleccionados: {n_components}\")\n",
        "\n",
        "# Reducir los datos a los componentes principales seleccionados\n",
        "pca = PCA(n_components=n_components)\n",
        "principal_components = pca.fit_transform(scaled_data)\n",
        "\n",
        "# Obtener las direcciones de los componentes principales\n",
        "loadings = pca.components_.T\n",
        "print(\"\\nDirecciones de los componentes principales (loadings):\")\n",
        "for i, loading in enumerate(loadings.T):\n",
        "    print(f\"PC{i+1}: {loading}\")\n"
      ],
      "metadata": {
        "colab": {
          "base_uri": "https://localhost:8080/",
          "height": 0
        },
        "id": "O6M2k_VMLD2L",
        "outputId": "c2058764-5449-4ab1-9330-65751ccbbf6f"
      },
      "execution_count": 6,
      "outputs": [
        {
          "output_type": "stream",
          "name": "stdout",
          "text": [
            "\n",
            "Varianza explicada acumulada: [0.4468279  0.63982116 0.78524283 0.87759173 0.94786687 0.97580278\n",
            " 0.98936981 1.        ]\n",
            "\n",
            "Número de componentes seleccionados: 4\n",
            "\n",
            "Direcciones de los componentes principales (loadings):\n",
            "PC1: [ 0.47287988 -0.30839609 -0.14456816 -0.19464001 -0.38678706  0.22047498\n",
            " -0.46419134  0.45695156]\n",
            "PC2: [ 0.21412406  0.60837422 -0.24160817  0.66113128  0.03120652  0.00577075\n",
            " -0.23734341  0.17670197]\n",
            "PC3: [ 0.09998804 -0.14603735  0.64740271  0.28525732 -0.24777586 -0.6157768\n",
            " -0.15808191  0.05108475]\n",
            "PC4: [0.11518655 0.10150821 0.68015594 0.05636071 0.31502867 0.62129198\n",
            " 0.00385699 0.15930427]\n"
          ]
        }
      ]
    },
    {
      "cell_type": "markdown",
      "source": [
        "#Explicación del procedimiento:\n",
        "#El objetivo del PCA es reducir la dimensionalidad de los datos transformando las variables originales en un conjunto más pequeño de componentes principales (PCs). Estos componentes son combinaciones lineales de las variables originales que explican la mayor cantidad posible de varianza en los datos."
      ],
      "metadata": {
        "id": "krkMV-PLT-ar"
      }
    },
    {
      "cell_type": "markdown",
      "source": [
        "#Varianza explicada acumulada: [0.4468, 0.6398, 0.7852, 0.8776]\n",
        "#El primer componente (PC1) explica el 44.68% de la varianza total.\n",
        "#Los primeros 4 componentes explican el 87.76% de la varianza total, lo que implica que estos cuatro componentes capturan la mayoría de la información presente en los datos.\n",
        "#Decisión: Se seleccionan los primeros 4 componentes principales porque explican más del 80% de la varianza acumulada, cumpliendo el criterio establecido."
      ],
      "metadata": {
        "id": "5NfCHw4vUAGJ"
      }
    },
    {
      "cell_type": "markdown",
      "source": [
        "#Valores propios (eigenvalues):\n",
        "#Los valores propios asociados a cada componente reflejan la cantidad de varianza explicada por cada PC. Los cuatro primeros tienen los valores propios más altos, lo que valida su selección.\n",
        "\n",
        "#Agrupaciones de los datos:\n",
        "#Los pesos altos en PC1 y PC2 sugieren que existen diferencias notables entre países con base en factores demográficos y económicos. Los países con valores similares en estos componentes podrían agruparse en clústeres con características comunes."
      ],
      "metadata": {
        "id": "mXvgwwR6VQOH"
      }
    },
    {
      "cell_type": "markdown",
      "source": [
        "#4. Obtener ecuaciones de transformación lineal"
      ],
      "metadata": {
        "id": "z4n3FvJqLF7u"
      }
    },
    {
      "cell_type": "code",
      "source": [
        "# Generar ecuaciones aproximadas\n",
        "component_names = [f\"PC{i+1}\" for i in range(n_components)]\n",
        "for i, load in enumerate(loadings.T):\n",
        "    component_eq = \" + \".join([f\"{round(l, 2)}*{col}\" for l, col in zip(load, predictors.columns)])\n",
        "    print(f\"{component_names[i]} = {component_eq}\")\n"
      ],
      "metadata": {
        "colab": {
          "base_uri": "https://localhost:8080/",
          "height": 0
        },
        "id": "8y6H2SqYLIkj",
        "outputId": "9172af01-d99e-40fb-801e-3a25f02a4c1d"
      },
      "execution_count": 7,
      "outputs": [
        {
          "output_type": "stream",
          "name": "stdout",
          "text": [
            "PC1 = 0.47*child_mort + -0.31*exports + -0.14*health + -0.19*imports + -0.39*income + 0.22*inflation + -0.46*life_expec + 0.46*total_fer\n",
            "PC2 = 0.21*child_mort + 0.61*exports + -0.24*health + 0.66*imports + 0.03*income + 0.01*inflation + -0.24*life_expec + 0.18*total_fer\n",
            "PC3 = 0.1*child_mort + -0.15*exports + 0.65*health + 0.29*imports + -0.25*income + -0.62*inflation + -0.16*life_expec + 0.05*total_fer\n",
            "PC4 = 0.12*child_mort + 0.1*exports + 0.68*health + 0.06*imports + 0.32*income + 0.62*inflation + 0.0*life_expec + 0.16*total_fer\n"
          ]
        }
      ]
    },
    {
      "cell_type": "markdown",
      "source": [
        "#5. Regresión lineal múltiple con los componentes principales seleccionados"
      ],
      "metadata": {
        "id": "LtsBwjAMLKly"
      }
    },
    {
      "cell_type": "code",
      "source": [
        "# Agregar intercepto\n",
        "X_pca = sm.add_constant(principal_components)\n",
        "\n",
        "# Ajustar el modelo\n",
        "model_pca = sm.OLS(target, X_pca).fit()\n",
        "\n",
        "# Mostrar el resumen del modelo\n",
        "print(model_pca.summary())"
      ],
      "metadata": {
        "colab": {
          "base_uri": "https://localhost:8080/",
          "height": 0
        },
        "id": "vT2XeCEFLNh-",
        "outputId": "90a0fbb0-8efa-4965-93ca-4985af6da221"
      },
      "execution_count": 8,
      "outputs": [
        {
          "output_type": "stream",
          "name": "stdout",
          "text": [
            "                            OLS Regression Results                            \n",
            "==============================================================================\n",
            "Dep. Variable:                   gdpp   R-squared:                       0.610\n",
            "Model:                            OLS   Adj. R-squared:                  0.600\n",
            "Method:                 Least Squares   F-statistic:                     63.36\n",
            "Date:                Tue, 19 Nov 2024   Prob (F-statistic):           3.76e-32\n",
            "Time:                        20:49:46   Log-Likelihood:                -1797.1\n",
            "No. Observations:                 167   AIC:                             3604.\n",
            "Df Residuals:                     162   BIC:                             3620.\n",
            "Df Model:                           4                                         \n",
            "Covariance Type:            nonrobust                                         \n",
            "==============================================================================\n",
            "                 coef    std err          t      P>|t|      [0.025      0.975]\n",
            "------------------------------------------------------------------------------\n",
            "const       1.296e+04    896.556     14.460      0.000    1.12e+04    1.47e+04\n",
            "x1         -6705.6797    474.201    -14.141      0.000   -7642.092   -5769.268\n",
            "x2          -616.1469    721.542     -0.854      0.394   -2040.987     808.693\n",
            "x3          -880.3942    831.224     -1.059      0.291   -2521.825     761.036\n",
            "x4          7493.7030   1043.078      7.184      0.000    5433.921    9553.485\n",
            "==============================================================================\n",
            "Omnibus:                       48.034   Durbin-Watson:                   2.179\n",
            "Prob(Omnibus):                  0.000   Jarque-Bera (JB):              114.651\n",
            "Skew:                           1.229   Prob(JB):                     1.27e-25\n",
            "Kurtosis:                       6.230   Cond. No.                         2.20\n",
            "==============================================================================\n",
            "\n",
            "Notes:\n",
            "[1] Standard Errors assume that the covariance matrix of the errors is correctly specified.\n"
          ]
        }
      ]
    },
    {
      "cell_type": "markdown",
      "source": [
        "#Estadísticas generales del modelo:\n",
        "#R-squared (R²): 0.610\n",
        "\n",
        "#Aproximadamente el 61% de la variación en el PIB per cápita (gdpp) se explica por los cuatro componentes principales seleccionados.\n",
        "#Esto indica un ajuste moderado del modelo, aunque inferior al R² obtenido con las variables originales (0.866). La reducción en R² es esperada debido a la pérdida de información durante la reducción de dimensionalidad.\n",
        "#Adj. R-squared: 0.600\n",
        "\n",
        "#Este valor ajusta el R² teniendo en cuenta el número de predictores en el modelo. Similar al R², muestra que el modelo tiene un ajuste razonable.\n",
        "#F-statistic: 63.36, Prob (F-statistic): 3.76e-32\n",
        "\n",
        "#La prueba F evalúa si el modelo, como un todo, es significativo. Dado que el valor p es muy bajo (<0.05), el modelo es estadísticamente significativo."
      ],
      "metadata": {
        "id": "zXHvI9Fla4r3"
      }
    },
    {
      "cell_type": "markdown",
      "source": [
        "#PC1 (-6705.68):\n",
        "#PC1 está asociado negativamente con el PIB, lo que implica que las combinaciones de variables originales que pesan más en este componente (como child_mort, life_expec, y total_fer) tienen un efecto adverso en el PIB. Esto tiene sentido, ya que mayores tasas de mortalidad infantil y fertilidad suelen estar correlacionadas con economías menos desarrolladas.\n",
        "\n",
        "#PC4 (7493.70):\n",
        "#PC4 tiene un coeficiente positivo significativo, lo que indica que las variables relacionadas con este componente (como health, inflation) tienen un impacto positivo neto en el PIB. Es decir, mejoras en la inversión en salud o reducción de la inflación podrían estar vinculadas a un mayor desarrollo económico.\n",
        "\n",
        "#Coeficientes no significativos (PC2 y PC3):\n",
        "#Aunque estos componentes explican parte de la varianza en los datos, sus coeficientes no son estadísticamente significativos. Esto podría deberse a que las combinaciones lineales asociadas con PC2 (comercio internacional) y PC3 (salud y estabilidad económica) no tienen una relación fuerte o consistente con el PIB en este conjunto de datos."
      ],
      "metadata": {
        "id": "5XaCETj6bFc6"
      }
    },
    {
      "cell_type": "markdown",
      "source": [
        "#Diagnósticos del modelo:\n",
        "#Omnibus: 48.034, Jarque-Bera: 114.651, Prob(JB): 1.27e-25\n",
        "#Estos indicadores sugieren que los residuos no siguen una distribución normal. Esto podría indicar la necesidad de explorar transformaciones adicionales para la variable objetivo (gdpp).\n",
        "\n",
        "#Durbin-Watson: 2.179\n",
        "#El valor está cercano a 2, lo que sugiere que no hay autocorrelación en los residuos del modelo.\n",
        "\n",
        "#Cond. No.: 2.20\n",
        "#Este valor bajo indica que no hay problemas de multicolinealidad severa, lo cual era esperado porque el PCA elimina la multicolinealidad entre las variables predictoras."
      ],
      "metadata": {
        "id": "z3XfE9TMbQoQ"
      }
    },
    {
      "cell_type": "markdown",
      "source": [
        "#6. Comparar los modelos antes y después del PCA"
      ],
      "metadata": {
        "id": "ABAJdg56LPVG"
      }
    },
    {
      "cell_type": "code",
      "source": [
        "print(\"\\nComparación de los modelos:\")\n",
        "print(\"- Modelo original:\")\n",
        "print(model.summary())\n",
        "print(\"\\n- Modelo con PCA:\")\n",
        "print(model_pca.summary())\n"
      ],
      "metadata": {
        "colab": {
          "base_uri": "https://localhost:8080/",
          "height": 0
        },
        "id": "liAvL4psLSz9",
        "outputId": "147d8703-af4b-43f0-c03d-dacc87f50790"
      },
      "execution_count": 9,
      "outputs": [
        {
          "output_type": "stream",
          "name": "stdout",
          "text": [
            "\n",
            "Comparación de los modelos:\n",
            "- Modelo original:\n",
            "                            OLS Regression Results                            \n",
            "==============================================================================\n",
            "Dep. Variable:                   gdpp   R-squared:                       0.866\n",
            "Model:                            OLS   Adj. R-squared:                  0.859\n",
            "Method:                 Least Squares   F-statistic:                     127.7\n",
            "Date:                Tue, 19 Nov 2024   Prob (F-statistic):           6.13e-65\n",
            "Time:                        20:49:53   Log-Likelihood:                -1707.9\n",
            "No. Observations:                 167   AIC:                             3434.\n",
            "Df Residuals:                     158   BIC:                             3462.\n",
            "Df Model:                           8                                         \n",
            "Covariance Type:            nonrobust                                         \n",
            "==============================================================================\n",
            "                 coef    std err          t      P>|t|      [0.025      0.975]\n",
            "------------------------------------------------------------------------------\n",
            "const      -4.193e+04   1.11e+04     -3.768      0.000   -6.39e+04      -2e+04\n",
            "child_mort    66.5667     35.522      1.874      0.063      -3.593     136.727\n",
            "exports       28.4864     43.211      0.659      0.511     -56.859     113.831\n",
            "health      1548.7889    227.184      6.817      0.000    1100.079    1997.499\n",
            "imports      -28.1190     42.516     -0.661      0.509    -112.093      55.855\n",
            "income         0.7856      0.044     17.990      0.000       0.699       0.872\n",
            "inflation   -100.4978     56.673     -1.773      0.078    -212.432      11.437\n",
            "life_expec   388.9480    142.967      2.721      0.007     106.574     671.322\n",
            "total_fer    615.0903    679.917      0.905      0.367    -727.809    1957.990\n",
            "==============================================================================\n",
            "Omnibus:                       53.684   Durbin-Watson:                   1.914\n",
            "Prob(Omnibus):                  0.000   Jarque-Bera (JB):              287.333\n",
            "Skew:                           1.040   Prob(JB):                     4.04e-63\n",
            "Kurtosis:                       9.080   Cond. No.                     5.39e+05\n",
            "==============================================================================\n",
            "\n",
            "Notes:\n",
            "[1] Standard Errors assume that the covariance matrix of the errors is correctly specified.\n",
            "[2] The condition number is large, 5.39e+05. This might indicate that there are\n",
            "strong multicollinearity or other numerical problems.\n",
            "\n",
            "- Modelo con PCA:\n",
            "                            OLS Regression Results                            \n",
            "==============================================================================\n",
            "Dep. Variable:                   gdpp   R-squared:                       0.610\n",
            "Model:                            OLS   Adj. R-squared:                  0.600\n",
            "Method:                 Least Squares   F-statistic:                     63.36\n",
            "Date:                Tue, 19 Nov 2024   Prob (F-statistic):           3.76e-32\n",
            "Time:                        20:49:53   Log-Likelihood:                -1797.1\n",
            "No. Observations:                 167   AIC:                             3604.\n",
            "Df Residuals:                     162   BIC:                             3620.\n",
            "Df Model:                           4                                         \n",
            "Covariance Type:            nonrobust                                         \n",
            "==============================================================================\n",
            "                 coef    std err          t      P>|t|      [0.025      0.975]\n",
            "------------------------------------------------------------------------------\n",
            "const       1.296e+04    896.556     14.460      0.000    1.12e+04    1.47e+04\n",
            "x1         -6705.6797    474.201    -14.141      0.000   -7642.092   -5769.268\n",
            "x2          -616.1469    721.542     -0.854      0.394   -2040.987     808.693\n",
            "x3          -880.3942    831.224     -1.059      0.291   -2521.825     761.036\n",
            "x4          7493.7030   1043.078      7.184      0.000    5433.921    9553.485\n",
            "==============================================================================\n",
            "Omnibus:                       48.034   Durbin-Watson:                   2.179\n",
            "Prob(Omnibus):                  0.000   Jarque-Bera (JB):              114.651\n",
            "Skew:                           1.229   Prob(JB):                     1.27e-25\n",
            "Kurtosis:                       6.230   Cond. No.                         2.20\n",
            "==============================================================================\n",
            "\n",
            "Notes:\n",
            "[1] Standard Errors assume that the covariance matrix of the errors is correctly specified.\n"
          ]
        }
      ]
    },
    {
      "cell_type": "markdown",
      "source": [
        "#Reducción de dimensionalidad:\n",
        "#El modelo con componentes principales es más parsimonioso, con solo 4 predictores en lugar de las 8 variables originales. Esto simplifica la interpretación y evita problemas de multicolinealidad.\n",
        "\n",
        "#Variables más influyentes:\n",
        "\n",
        "#PC1 y PC4 tienen efectos significativos sobre el PIB (gdpp).\n",
        "#PC1 representa factores demográficos (mortalidad infantil, esperanza de vida), que impactan negativamente el PIB.\n",
        "#PC4 incluye factores económicos (salud e inflación) que tienen un impacto positivo.\n",
        "#Limitaciones:\n",
        "\n",
        "#Aunque el modelo explica un porcentaje razonable de la varianza, su capacidad predictiva es inferior al modelo con las variables originales.\n",
        "#La no normalidad de los residuos sugiere que podría ser necesario investigar otras transformaciones o modelos."
      ],
      "metadata": {
        "id": "vsbT2y_AbVyM"
      }
    },
    {
      "cell_type": "markdown",
      "source": [
        "#7. Análisis de conglomerados utilizando los componentes principales"
      ],
      "metadata": {
        "id": "zGhP__z9LYNB"
      }
    },
    {
      "cell_type": "code",
      "source": [
        "# Aplicar K-means clustering\n",
        "kmeans = KMeans(n_clusters=3, random_state=42)\n",
        "clusters = kmeans.fit_predict(principal_components)\n",
        "\n",
        "# Agregar los clusters al dataframe\n",
        "df[\"Cluster\"] = clusters\n",
        "\n",
        "# Visualizar los clusters\n",
        "plt.figure(figsize=(10, 7))\n",
        "plt.scatter(principal_components[:, 0], principal_components[:, 1], c=clusters, cmap=\"viridis\")\n",
        "plt.title(\"Clusters usando los Componentes Principales\")\n",
        "plt.xlabel(\"PC1\")\n",
        "plt.ylabel(\"PC2\")\n",
        "plt.colorbar(label=\"Cluster\")\n",
        "plt.show()\n"
      ],
      "metadata": {
        "colab": {
          "base_uri": "https://localhost:8080/",
          "height": 641
        },
        "id": "50Fr085rLYhw",
        "outputId": "38c4d707-994f-41e2-fed6-b5f6573e2ad0"
      },
      "execution_count": 10,
      "outputs": [
        {
          "output_type": "display_data",
          "data": {
            "text/plain": [
              "<Figure size 1000x700 with 2 Axes>"
            ],
            "image/png": "[encoded data removed]"
          },
          "metadata": {}
        }
      ]
    }
  ]
}